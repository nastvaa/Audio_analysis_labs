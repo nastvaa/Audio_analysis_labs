{
  "cells": [
    {
      "cell_type": "markdown",
      "metadata": {
        "id": "-sTefY01qW6L"
      },
      "source": [
        "Импорт основных библиотек"
      ]
    },
    {
      "cell_type": "code",
      "execution_count": null,
      "metadata": {
        "id": "errMz1_cDwDH"
      },
      "outputs": [],
      "source": [
        "import librosa\n",
        "import numpy as np\n",
        "import scipy \n",
        "import scipy.fft\n",
        "import IPython.display as ipd\n",
        "import matplotlib.pyplot as plt\n",
        "import librosa.display\n",
        "import librosa.filters\n",
        "import hashlib\n",
        "from glob import glob\n",
        "import os\n",
        "import sklearn\n",
        "import torch\n",
        "from torchaudio.transforms import MelSpectrogram\n",
        "\n",
        "import math\n",
        "\n",
        "%matplotlib inline\n",
        "\n",
        "import warnings\n",
        "warnings.filterwarnings('ignore')"
      ]
    },
    {
      "cell_type": "markdown",
      "metadata": {
        "id": "6KazHIZHqahJ"
      },
      "source": [
        "Функция отрисовки сигнала"
      ]
    },
    {
      "cell_type": "code",
      "execution_count": null,
      "metadata": {
        "id": "WWp9NRLFDzOY"
      },
      "outputs": [],
      "source": [
        "def draw_waveform(wav, sr, figsize=(14, 5)):\n",
        "    # Отрисовка звукового сигнала во временной области\n",
        "    plt.figure(figsize=figsize)\n",
        "    librosa.display.waveplot(wav, sr=sr)\n",
        "    plt.show()"
      ]
    },
    {
      "cell_type": "markdown",
      "metadata": {
        "id": "LxnX8kXIqdAQ"
      },
      "source": [
        "Загрузка датасета"
      ]
    },
    {
      "cell_type": "code",
      "execution_count": null,
      "metadata": {
        "colab": {
          "base_uri": "https://localhost:8080/"
        },
        "id": "m7SUUaQxNdpu",
        "outputId": "db8377b6-afca-4f2a-d44e-508308d0a8a2"
      },
      "outputs": [
        {
          "output_type": "stream",
          "name": "stdout",
          "text": [
            "waves_yesno/\n",
            "waves_yesno/1_0_0_0_0_0_1_1.wav\n",
            "waves_yesno/1_1_0_0_1_0_1_0.wav\n",
            "waves_yesno/1_0_1_1_1_1_0_1.wav\n",
            "waves_yesno/1_1_1_1_0_1_0_0.wav\n",
            "waves_yesno/0_0_1_1_1_0_0_0.wav\n",
            "waves_yesno/0_1_1_1_1_1_1_1.wav\n",
            "waves_yesno/0_1_0_1_1_1_0_0.wav\n",
            "waves_yesno/1_0_1_1_1_0_1_0.wav\n",
            "waves_yesno/1_0_0_1_0_1_1_1.wav\n",
            "waves_yesno/0_0_1_0_1_0_0_0.wav\n",
            "waves_yesno/0_1_0_1_1_0_1_0.wav\n",
            "waves_yesno/0_0_1_1_0_1_1_0.wav\n",
            "waves_yesno/1_0_0_0_1_0_0_1.wav\n",
            "waves_yesno/1_1_0_1_1_1_1_0.wav\n",
            "waves_yesno/0_0_1_1_1_1_0_0.wav\n",
            "waves_yesno/1_1_0_0_1_1_1_0.wav\n",
            "waves_yesno/0_0_1_1_0_1_1_1.wav\n",
            "waves_yesno/1_1_0_1_0_1_1_0.wav\n",
            "waves_yesno/0_1_0_0_0_1_1_0.wav\n",
            "waves_yesno/0_0_0_1_0_0_0_1.wav\n",
            "waves_yesno/0_0_1_0_1_0_1_1.wav\n",
            "waves_yesno/0_0_1_0_0_0_1_0.wav\n",
            "waves_yesno/1_1_0_1_1_0_0_1.wav\n",
            "waves_yesno/0_1_1_1_0_1_0_1.wav\n",
            "waves_yesno/0_1_1_1_0_0_0_0.wav\n",
            "waves_yesno/README~\n",
            "waves_yesno/0_1_0_0_0_1_0_0.wav\n",
            "waves_yesno/1_0_0_0_0_0_0_1.wav\n",
            "waves_yesno/1_1_0_1_1_0_1_1.wav\n",
            "waves_yesno/1_1_0_0_0_0_0_1.wav\n",
            "waves_yesno/1_0_0_0_0_0_0_0.wav\n",
            "waves_yesno/0_1_1_1_1_0_1_0.wav\n",
            "waves_yesno/0_0_1_1_0_1_0_0.wav\n",
            "waves_yesno/1_1_1_0_0_0_0_1.wav\n",
            "waves_yesno/1_0_1_0_1_0_0_1.wav\n",
            "waves_yesno/0_1_0_0_1_0_1_1.wav\n",
            "waves_yesno/0_0_1_1_1_1_1_0.wav\n",
            "waves_yesno/1_1_0_0_0_1_1_1.wav\n",
            "waves_yesno/0_1_1_1_0_0_1_0.wav\n",
            "waves_yesno/1_1_0_1_0_1_0_0.wav\n",
            "waves_yesno/1_1_1_1_1_1_1_1.wav\n",
            "waves_yesno/0_0_1_0_1_0_0_1.wav\n",
            "waves_yesno/1_1_1_1_0_0_1_0.wav\n",
            "waves_yesno/0_0_1_1_1_0_0_1.wav\n",
            "waves_yesno/0_1_0_1_0_0_0_0.wav\n",
            "waves_yesno/1_1_1_1_1_0_0_0.wav\n",
            "waves_yesno/README\n",
            "waves_yesno/0_1_1_0_0_1_1_1.wav\n",
            "waves_yesno/0_0_1_0_0_1_1_0.wav\n",
            "waves_yesno/1_1_0_0_1_0_1_1.wav\n",
            "waves_yesno/1_1_1_0_0_1_0_1.wav\n",
            "waves_yesno/0_0_1_0_0_1_1_1.wav\n",
            "waves_yesno/0_0_1_1_0_0_0_1.wav\n",
            "waves_yesno/1_0_1_1_0_1_1_1.wav\n",
            "waves_yesno/1_1_1_0_1_0_1_0.wav\n",
            "waves_yesno/1_1_1_0_1_0_1_1.wav\n",
            "waves_yesno/0_1_0_0_1_0_1_0.wav\n",
            "waves_yesno/1_1_1_0_0_1_1_1.wav\n",
            "waves_yesno/0_1_1_0_0_1_1_0.wav\n",
            "waves_yesno/0_0_0_1_0_1_1_0.wav\n",
            "waves_yesno/1_1_1_1_1_1_0_0.wav\n",
            "waves_yesno/0_0_0_0_1_1_1_1.wav\n"
          ]
        }
      ],
      "source": [
        "\n",
        "![ ! -f  waves_yesno.tar.gz ] && wget https://www.openslr.org/resources/1/waves_yesno.tar.gz\n",
        "# Распаковка\n",
        "!tar -xvzf waves_yesno.tar.gz"
      ]
    },
    {
      "cell_type": "markdown",
      "metadata": {
        "id": "NY3oPRr1qf5c"
      },
      "source": [
        "Загрузка данных + сплит по трейну/тесту"
      ]
    },
    {
      "cell_type": "code",
      "execution_count": null,
      "metadata": {
        "id": "tDnOyTPeOtlT"
      },
      "outputs": [],
      "source": [
        "def load_yn_dataset():\n",
        "    X, labels = [], []\n",
        "    bad_files = set([\"0_1_0_1_0_0_0_0\"])\n",
        "    for f in glob('/content/waves_yesno/*.wav'):\n",
        "        name = os.path.basename(f)[:-4]\n",
        "        if name in bad_files:\n",
        "            continue\n",
        "        y = [int(l) for l in name.split(\"_\")]\n",
        "        x, _ = librosa.load(f)\n",
        "        X.append(x)\n",
        "        labels.append(y)\n",
        "        \n",
        "    return X, labels\n",
        "        \n",
        "X, Y = load_yn_dataset()"
      ]
    },
    {
      "cell_type": "code",
      "execution_count": null,
      "metadata": {
        "id": "8B9KY_6hPG42"
      },
      "outputs": [],
      "source": [
        "X_train, X_test, Y_train, Y_test = sklearn.model_selection.train_test_split(X, Y,test_size=0.2, random_state=1)"
      ]
    },
    {
      "cell_type": "markdown",
      "metadata": {
        "id": "cn5ByE-FqpyO"
      },
      "source": [
        "Функции из 4 л. р.: вычисление мелов, мел-фильтрбанка, MFCC"
      ]
    },
    {
      "cell_type": "code",
      "execution_count": null,
      "metadata": {
        "id": "tzHxSlPEWyGX"
      },
      "outputs": [],
      "source": [
        "def mel(spec):\n",
        "    return  2595.0 * np.log10(1 + spec / 700)"
      ]
    },
    {
      "cell_type": "code",
      "execution_count": null,
      "metadata": {
        "id": "ZXVRam3RWpb9"
      },
      "outputs": [],
      "source": [
        "def mel_filters_librosa(sr, n_fft, n_mels):\n",
        "    # функция построения треугольных мел-фильтров в герц-шкале\n",
        "    # sr - sample rate\n",
        "    # n_fft - length of the FFT window \n",
        "    # n_mels - number of filters\n",
        "    # return mel filters matrix. [n_mel, n_fft]\n",
        "    \n",
        "    weights = np.zeros((n_mels, n_fft // 2 + 1), dtype=np.float)\n",
        "    frqs = np.fft.fftfreq(n=n_fft // 2 + 1, d=1.0/sr)\n",
        "    frqs = np.linspace(0, sr / 2.0, n_fft // 2 + 1, endpoint=True)\n",
        "    max_mel = mel(sr / 2.0)\n",
        "    mels = np.linspace(0, max_mel, n_mels + 2)\n",
        "    mels_f = 700.0 * (10.0 ** (mels / 2595.0) - 1.0)\n",
        "    fdiff = np.diff(mels_f)\n",
        "    ramps = np.subtract.outer(mels_f, frqs)\n",
        "\n",
        "    for i in range(n_mels):\n",
        "      lower = -ramps[i] / fdiff[i]\n",
        "      upper = ramps[i + 2] / fdiff[i + 1]\n",
        "      weights[i] = np.maximum(0, np.minimum(lower, upper))\n",
        "    enorm = 2.0 / (mels_f[2 : n_mels + 2] - mels_f[:n_mels])\n",
        "    weights *= enorm[:, np.newaxis]\n",
        "    return weights\n"
      ]
    },
    {
      "cell_type": "code",
      "execution_count": null,
      "metadata": {
        "id": "64uUzsblQHBi"
      },
      "outputs": [],
      "source": [
        "def get_fbanks(wav: np.ndarray, sr: int, window_ms=25, step_ms=10, n_fbanks=40):\n",
        "    # wav - input signal\n",
        "    # sr - sample rate\n",
        "    # window_ms - window length in milliseconds\n",
        "    # step_ms - stft step in milliseconds\n",
        "    # n_fbanks - number of filters\n",
        "    # return fbank matrix [n_fbanks, time]\n",
        "\n",
        "    n_fft = window_ms * sr // 1000\n",
        "    hop_length = step_ms * sr // 1000\n",
        "    power = 2.0\n",
        "\n",
        "    D2 = librosa.stft(wav, n_fft=n_fft, hop_length=hop_length)\n",
        "\n",
        "    S = np.abs(D2) ** power\n",
        "    mel_basis = mel_filters_librosa(sr, n_fft=n_fft, n_mels=n_fbanks)\n",
        "    return np.dot(mel_basis, S)"
      ]
    },
    {
      "cell_type": "code",
      "execution_count": null,
      "metadata": {
        "id": "6hvNVRMCP-kK"
      },
      "outputs": [],
      "source": [
        "def get_mfcc(wav: np.ndarray, sr: int, window_ms=25, step_ms=10, n_mfcc=13, n_mels = 128):\n",
        "    # wav - input signal\n",
        "    # sr - sample rate\n",
        "    # window_ms - window length in milliseconds\n",
        "    # step_ms - stft step in milliseconds\n",
        "    # n_mfcc - number of filters\n",
        "    # return mfcc matrix [n_mfcc, time]\n",
        "    \n",
        "    a_min = 1e-10\n",
        "    s = get_fbanks(wav=wav, sr=sr, window_ms=window_ms, step_ms=step_ms, n_fbanks=n_mels)\n",
        "    magnitude = s\n",
        "    log_spec = 10.0 * np.log10(np.maximum(a_min, s))\n",
        "    log_spec = np.maximum(log_spec, log_spec.max() - 80.0)\n",
        "\n",
        "    m = np.zeros_like(s)\n",
        "\n",
        "    for n in np.arange(m.shape[1]):\n",
        "      m[:,n] = scipy.fftpack.dct(log_spec[:,n], axis=0, type=2, norm='ortho')\n",
        "    m = m[:n_mfcc,:]\n",
        "\n",
        "    return m"
      ]
    },
    {
      "cell_type": "markdown",
      "metadata": {
        "id": "RTaT6jn1qv5G"
      },
      "source": [
        "Задаем параметры для VAD"
      ]
    },
    {
      "cell_type": "code",
      "execution_count": null,
      "metadata": {
        "id": "E9nMocDBQmdR"
      },
      "outputs": [],
      "source": [
        "sr = 16000\n",
        "window_ms = 25\n",
        "step_ms = 10\n",
        "n_mfcc = 13"
      ]
    },
    {
      "cell_type": "markdown",
      "metadata": {
        "id": "kdeBS7d_qytD"
      },
      "source": [
        "Собственно VAD. Считает спектр, потом свертка с окном Хэмминга для сглаживания, сравниваем значения с порогом тишины. Обрезаем/дополняем, если длина не сходится."
      ]
    },
    {
      "cell_type": "code",
      "execution_count": null,
      "metadata": {
        "id": "JJCB2aLYKEkA"
      },
      "outputs": [],
      "source": [
        "def VAD(signal, sr, window_ms = window_ms, step_ms = step_ms, n_mfcc = n_mfcc, hann_win = 10, threshold = 92):\n",
        "\n",
        "    mel_spectrum = get_mfcc(signal, sr, window_ms=window_ms, step_ms=step_ms) # вычисление спектра\n",
        "\n",
        "    mfcc_smooth = scipy.signal.convolve(mel_spectrum[1, :], scipy.signal.windows.hann(hann_win), mode='same') / hann_win # свертка с окном ханна для сглаживания\n",
        "\n",
        "    step_n = step_ms * sr // 1000\n",
        "    res = np.intc(mfcc_smooth > threshold)\n",
        "\n",
        "    if (len(signal) - len(res)) > 0:\n",
        "            res = np.pad(res, len(signal) - len(res))[len(signal) - len(res):]\n",
        "    else:\n",
        "            res = res[:len(signal)]\n",
        " \n",
        "    return res\n"
      ]
    },
    {
      "cell_type": "code",
      "execution_count": null,
      "metadata": {
        "id": "AZ19kjE1Vbm_"
      },
      "outputs": [],
      "source": [
        "train_VA = [VAD(i, sr, window_ms = window_ms, step_ms = step_ms, n_mfcc = n_mfcc, hann_win = 10) for i in X_train]\n",
        "test_VA = [VAD(i, sr, window_ms = window_ms, step_ms = step_ms, n_mfcc = n_mfcc, hann_win = 10) for i in X_test]"
      ]
    },
    {
      "cell_type": "code",
      "execution_count": null,
      "metadata": {
        "colab": {
          "base_uri": "https://localhost:8080/"
        },
        "id": "QgDVRSg0Mv9N",
        "outputId": "d3853ef8-719d-4777-b100-fe34cada512c"
      },
      "outputs": [
        {
          "output_type": "stream",
          "name": "stdout",
          "text": [
            "Accuracy 0.9787234042553191\n",
            "ids with error [1]\n",
            "Test passed\n",
            "Accuracy 1.0\n",
            "Test passed\n",
            "VAD ok!\n"
          ]
        }
      ],
      "source": [
        "def test_VAD(VOICE, VA, Y, min_acc=0.95):\n",
        "    def check_ali(ali, num_words):\n",
        "        diff = ali[1:]  - ali[:-1]\n",
        "        if diff.sum()!=0:\n",
        "            print(\"VAD detected speech at the beginning (or end) of audio\")\n",
        "            return -1 \n",
        "        if not (diff > 0).sum() == (diff > 0).sum() == num_words:\n",
        "            return -2\n",
        "        return 0\n",
        "    \n",
        "    bad_i = []\n",
        "    err =0\n",
        "    for i, (ali, y) in enumerate(zip(VA, Y)):\n",
        "        assert len(VOICE[i]) == len(ali), \"shapes doesn't match\"\n",
        "        if check_ali(ali, len(y)) != 0:\n",
        "            bad_i.append(i)\n",
        "            err+=1\n",
        "    acc = (len(Y) - err)/len(Y)\n",
        "    print(f\"Accuracy {acc}\")\n",
        "    if len(bad_i) >0:\n",
        "        print(f\"ids with error {bad_i}\")\n",
        "    assert acc >= min_acc , f\"Accuracy must be >= {min_acc}\"\n",
        "    print(\"Test passed\")\n",
        "\n",
        "test_VAD(X_train, train_VA, Y_train)\n",
        "test_VAD(X_test, test_VA, Y_test)\n",
        "print(\"VAD ok!\")"
      ]
    },
    {
      "cell_type": "markdown",
      "metadata": {
        "id": "fUFd8fn2eAAM"
      },
      "source": [
        "Обучите классификатор, определяющий, какое слово было сказано. Используйте VAD для разбиения входных файлов на отдельные слова. Классификацию можно сделать, например, с помощью SVM по усредненным признаки выделеных VAD'ом слов. Или любым другим удобным для вас способом. Добейтесь точности больше 0.95\n",
        "\n",
        "\n"
      ]
    },
    {
      "cell_type": "markdown",
      "metadata": {
        "id": "wrYdnG3irFcA"
      },
      "source": [
        "Создаем датасет"
      ]
    },
    {
      "cell_type": "code",
      "execution_count": null,
      "metadata": {
        "id": "enDkk8yrjxpY"
      },
      "outputs": [],
      "source": [
        "def make_ds(data, labels, VAD, sr):\n",
        "    \n",
        "    X, Y = [], []\n",
        "    for i, (item, target) in enumerate(zip(data, labels)):\n",
        "        vad = VAD(item, sr, window_ms, step_ms, n_mfcc)\n",
        "        mfcc = get_mfcc(item, sr)\n",
        "        \n",
        "        idx = []\n",
        "        for i in range(len(vad) - 1):\n",
        "            if vad[i] != vad[i + 1]:\n",
        "                idx.append(i + 1)\n",
        "        \n",
        "        for d, i in enumerate(range(0, len(idx), 2)):\n",
        "            X.append(np.mean(mfcc[:, idx[i]: idx[i + 1]], axis=1))\n",
        "            Y.append(target[d])\n",
        "    \n",
        "    return np.array(X), np.array(Y)\n",
        "\n",
        "\n",
        "x_train, y_train = make_ds(X_train, Y_train, VAD, sr)\n",
        "x_test, y_test = make_ds(X_test, Y_test, VAD, sr)"
      ]
    },
    {
      "cell_type": "code",
      "execution_count": null,
      "metadata": {
        "colab": {
          "base_uri": "https://localhost:8080/"
        },
        "id": "KHamtNAcoS7V",
        "outputId": "f509a90c-d40c-4428-b9aa-e0aed3439d85"
      },
      "outputs": [
        {
          "output_type": "execute_result",
          "data": {
            "text/plain": [
              "(375, 13)"
            ]
          },
          "metadata": {},
          "execution_count": 15
        }
      ],
      "source": [
        "x_train.shape"
      ]
    },
    {
      "cell_type": "markdown",
      "metadata": {
        "id": "oal9CDZxrH15"
      },
      "source": [
        "Строим кластеры."
      ]
    },
    {
      "cell_type": "code",
      "execution_count": null,
      "metadata": {
        "colab": {
          "base_uri": "https://localhost:8080/",
          "height": 282
        },
        "id": "LWTR9ilNlSKg",
        "outputId": "862ea549-9317-4d6d-ef04-252b1aa0879f"
      },
      "outputs": [
        {
          "output_type": "execute_result",
          "data": {
            "text/plain": [
              "<matplotlib.collections.PathCollection at 0x7fdd4f193460>"
            ]
          },
          "metadata": {},
          "execution_count": 16
        },
        {
          "output_type": "display_data",
          "data": {
            "text/plain": [
              "<Figure size 432x288 with 1 Axes>"
            ],
            "image/png": "[encoded data removed]"
          },
          "metadata": {
            "needs_background": "light"
          }
        }
      ],
      "source": [
        "plt.scatter(x_train[:, 0], x_train[:, 1], c=y_train)"
      ]
    },
    {
      "cell_type": "markdown",
      "metadata": {
        "id": "uiJi0fmLrLQY"
      },
      "source": [
        "Выглядит плохо, попробуем снизить размерность."
      ]
    },
    {
      "cell_type": "code",
      "execution_count": null,
      "metadata": {
        "id": "exd_gNuelmFO",
        "colab": {
          "base_uri": "https://localhost:8080/"
        },
        "outputId": "ea0c5de7-47d8-4064-fc4a-8efaaae5e51e"
      },
      "outputs": [
        {
          "output_type": "stream",
          "name": "stdout",
          "text": [
            "Looking in indexes: https://pypi.org/simple, https://us-python.pkg.dev/colab-wheels/public/simple/\n",
            "Requirement already satisfied: umap-learn in /usr/local/lib/python3.9/dist-packages (0.5.3)\n",
            "Requirement already satisfied: numpy>=1.17 in /usr/local/lib/python3.9/dist-packages (from umap-learn) (1.22.4)\n",
            "Requirement already satisfied: tqdm in /usr/local/lib/python3.9/dist-packages (from umap-learn) (4.65.0)\n",
            "Requirement already satisfied: scikit-learn>=0.22 in /usr/local/lib/python3.9/dist-packages (from umap-learn) (1.2.1)\n",
            "Requirement already satisfied: pynndescent>=0.5 in /usr/local/lib/python3.9/dist-packages (from umap-learn) (0.5.8)\n",
            "Requirement already satisfied: numba>=0.49 in /usr/local/lib/python3.9/dist-packages (from umap-learn) (0.56.4)\n",
            "Requirement already satisfied: scipy>=1.0 in /usr/local/lib/python3.9/dist-packages (from umap-learn) (1.10.1)\n",
            "Requirement already satisfied: llvmlite<0.40,>=0.39.0dev0 in /usr/local/lib/python3.9/dist-packages (from numba>=0.49->umap-learn) (0.39.1)\n",
            "Requirement already satisfied: setuptools in /usr/local/lib/python3.9/dist-packages (from numba>=0.49->umap-learn) (57.4.0)\n",
            "Requirement already satisfied: joblib>=0.11 in /usr/local/lib/python3.9/dist-packages (from pynndescent>=0.5->umap-learn) (1.2.0)\n",
            "Requirement already satisfied: threadpoolctl>=2.0.0 in /usr/local/lib/python3.9/dist-packages (from scikit-learn>=0.22->umap-learn) (3.1.0)\n"
          ]
        }
      ],
      "source": [
        "!pip install umap-learn"
      ]
    },
    {
      "cell_type": "code",
      "execution_count": null,
      "metadata": {
        "colab": {
          "base_uri": "https://localhost:8080/",
          "height": 282
        },
        "id": "dDOuumqmlgFX",
        "outputId": "8fee6544-ed8b-47a2-c184-505011114552"
      },
      "outputs": [
        {
          "output_type": "execute_result",
          "data": {
            "text/plain": [
              "<matplotlib.collections.PathCollection at 0x7fdcef452610>"
            ]
          },
          "metadata": {},
          "execution_count": 18
        },
        {
          "output_type": "display_data",
          "data": {
            "text/plain": [
              "<Figure size 432x288 with 1 Axes>"
            ],
            "image/png": "[encoded data removed]"
          },
          "metadata": {
            "needs_background": "light"
          }
        }
      ],
      "source": [
        "import umap\n",
        "reducer = umap.UMAP(n_components=2, random_state=42)\n",
        "x_umap = reducer.fit_transform(x_train)\n",
        "plt.scatter(x_umap[:, 0], x_umap[:, 1], c=y_train)"
      ]
    },
    {
      "cell_type": "markdown",
      "metadata": {
        "id": "YE4NHOiJrOPy"
      },
      "source": [
        "Другое дело."
      ]
    },
    {
      "cell_type": "code",
      "execution_count": null,
      "metadata": {
        "id": "lfhOAmtunH0G"
      },
      "outputs": [],
      "source": [
        "from sklearn.ensemble import AdaBoostClassifier"
      ]
    },
    {
      "cell_type": "markdown",
      "metadata": {
        "id": "qB5PJ7_prPYs"
      },
      "source": [
        "Обучаем классификатор"
      ]
    },
    {
      "cell_type": "code",
      "execution_count": null,
      "metadata": {
        "colab": {
          "base_uri": "https://localhost:8080/",
          "height": 75
        },
        "id": "9O6gQwEHnNkk",
        "outputId": "cbf87a1c-f70a-4bb7-fe81-860fdbaa818e"
      },
      "outputs": [
        {
          "output_type": "execute_result",
          "data": {
            "text/plain": [
              "AdaBoostClassifier(random_state=42)"
            ],
            "text/html": [
              "<style>#sk-container-id-1 {color: black;background-color: white;}#sk-container-id-1 pre{padding: 0;}#sk-container-id-1 div.sk-toggleable {background-color: white;}#sk-container-id-1 label.sk-toggleable__label {cursor: pointer;display: block;width: 100%;margin-bottom: 0;padding: 0.3em;box-sizing: border-box;text-align: center;}#sk-container-id-1 label.sk-toggleable__label-arrow:before {content: \"▸\";float: left;margin-right: 0.25em;color: #696969;}#sk-container-id-1 label.sk-toggleable__label-arrow:hover:before {color: black;}#sk-container-id-1 div.sk-estimator:hover label.sk-toggleable__label-arrow:before {color: black;}#sk-container-id-1 div.sk-toggleable__content {max-height: 0;max-width: 0;overflow: hidden;text-align: left;background-color: #f0f8ff;}#sk-container-id-1 div.sk-toggleable__content pre {margin: 0.2em;color: black;border-radius: 0.25em;background-color: #f0f8ff;}#sk-container-id-1 input.sk-toggleable__control:checked~div.sk-toggleable__content {max-height: 200px;max-width: 100%;overflow: auto;}#sk-container-id-1 input.sk-toggleable__control:checked~label.sk-toggleable__label-arrow:before {content: \"▾\";}#sk-container-id-1 div.sk-estimator input.sk-toggleable__control:checked~label.sk-toggleable__label {background-color: #d4ebff;}#sk-container-id-1 div.sk-label input.sk-toggleable__control:checked~label.sk-toggleable__label {background-color: #d4ebff;}#sk-container-id-1 input.sk-hidden--visually {border: 0;clip: rect(1px 1px 1px 1px);clip: rect(1px, 1px, 1px, 1px);height: 1px;margin: -1px;overflow: hidden;padding: 0;position: absolute;width: 1px;}#sk-container-id-1 div.sk-estimator {font-family: monospace;background-color: #f0f8ff;border: 1px dotted black;border-radius: 0.25em;box-sizing: border-box;margin-bottom: 0.5em;}#sk-container-id-1 div.sk-estimator:hover {background-color: #d4ebff;}#sk-container-id-1 div.sk-parallel-item::after {content: \"\";width: 100%;border-bottom: 1px solid gray;flex-grow: 1;}#sk-container-id-1 div.sk-label:hover label.sk-toggleable__label {background-color: #d4ebff;}#sk-container-id-1 div.sk-serial::before {content: \"\";position: absolute;border-left: 1px solid gray;box-sizing: border-box;top: 0;bottom: 0;left: 50%;z-index: 0;}#sk-container-id-1 div.sk-serial {display: flex;flex-direction: column;align-items: center;background-color: white;padding-right: 0.2em;padding-left: 0.2em;position: relative;}#sk-container-id-1 div.sk-item {position: relative;z-index: 1;}#sk-container-id-1 div.sk-parallel {display: flex;align-items: stretch;justify-content: center;background-color: white;position: relative;}#sk-container-id-1 div.sk-item::before, #sk-container-id-1 div.sk-parallel-item::before {content: \"\";position: absolute;border-left: 1px solid gray;box-sizing: border-box;top: 0;bottom: 0;left: 50%;z-index: -1;}#sk-container-id-1 div.sk-parallel-item {display: flex;flex-direction: column;z-index: 1;position: relative;background-color: white;}#sk-container-id-1 div.sk-parallel-item:first-child::after {align-self: flex-end;width: 50%;}#sk-container-id-1 div.sk-parallel-item:last-child::after {align-self: flex-start;width: 50%;}#sk-container-id-1 div.sk-parallel-item:only-child::after {width: 0;}#sk-container-id-1 div.sk-dashed-wrapped {border: 1px dashed gray;margin: 0 0.4em 0.5em 0.4em;box-sizing: border-box;padding-bottom: 0.4em;background-color: white;}#sk-container-id-1 div.sk-label label {font-family: monospace;font-weight: bold;display: inline-block;line-height: 1.2em;}#sk-container-id-1 div.sk-label-container {text-align: center;}#sk-container-id-1 div.sk-container {/* jupyter's `normalize.less` sets `[hidden] { display: none; }` but bootstrap.min.css set `[hidden] { display: none !important; }` so we also need the `!important` here to be able to override the default hidden behavior on the sphinx rendered scikit-learn.org. See: https://github.com/scikit-learn/scikit-learn/issues/21755 */display: inline-block !important;position: relative;}#sk-container-id-1 div.sk-text-repr-fallback {display: none;}</style><div id=\"sk-container-id-1\" class=\"sk-top-container\"><div class=\"sk-text-repr-fallback\"><pre>AdaBoostClassifier(random_state=42)</pre><b>In a Jupyter environment, please rerun this cell to show the HTML representation or trust the notebook. <br />On GitHub, the HTML representation is unable to render, please try loading this page with nbviewer.org.</b></div><div class=\"sk-container\" hidden><div class=\"sk-item\"><div class=\"sk-estimator sk-toggleable\"><input class=\"sk-toggleable__control sk-hidden--visually\" id=\"sk-estimator-id-1\" type=\"checkbox\" checked><label for=\"sk-estimator-id-1\" class=\"sk-toggleable__label sk-toggleable__label-arrow\">AdaBoostClassifier</label><div class=\"sk-toggleable__content\"><pre>AdaBoostClassifier(random_state=42)</pre></div></div></div></div></div>"
            ]
          },
          "metadata": {},
          "execution_count": 20
        }
      ],
      "source": [
        "clf = AdaBoostClassifier(random_state=42) \n",
        "clf.fit(x_umap, y_train)"
      ]
    },
    {
      "cell_type": "markdown",
      "metadata": {
        "id": "hWKtG2o5rRxe"
      },
      "source": [
        "Визуализация скопирована у @kocharyan_x_armen"
      ]
    },
    {
      "cell_type": "code",
      "execution_count": null,
      "metadata": {
        "colab": {
          "base_uri": "https://localhost:8080/",
          "height": 282
        },
        "id": "gr_ZC0vCoAPf",
        "outputId": "dc9c23a8-b6a0-4f0f-8856-d8daa5e4d9c8"
      },
      "outputs": [
        {
          "output_type": "execute_result",
          "data": {
            "text/plain": [
              "<matplotlib.legend.Legend at 0x7fdcef73f400>"
            ]
          },
          "metadata": {},
          "execution_count": 21
        },
        {
          "output_type": "display_data",
          "data": {
            "text/plain": [
              "<Figure size 432x288 with 1 Axes>"
            ],
            "image/png": "[encoded data removed]"
          },
          "metadata": {
            "needs_background": "light"
          }
        }
      ],
      "source": [
        "# Визуализация кривых обучения\n",
        "\n",
        "train_sizes, train_scores, test_scores = sklearn.model_selection.learning_curve(clf, x_umap, y_train, scoring='accuracy')\n",
        "train_scores_mean = np.mean(train_scores, axis=1)\n",
        "train_scores_std = np.std(train_scores, axis=1)\n",
        "test_scores_mean = np.mean(test_scores, axis=1)\n",
        "test_scores_std = np.std(test_scores, axis=1)\n",
        "\n",
        "plt.grid()\n",
        "plt.fill_between(\n",
        "        train_sizes,\n",
        "        train_scores_mean - train_scores_std,\n",
        "        train_scores_mean + train_scores_std,\n",
        "        alpha=0.1,\n",
        "        color=\"r\",\n",
        ")\n",
        "plt.fill_between(\n",
        "        train_sizes,\n",
        "        test_scores_mean - test_scores_std,\n",
        "        test_scores_mean + test_scores_std,\n",
        "        alpha=0.1,\n",
        "        color=\"g\",\n",
        ")\n",
        "plt.plot(\n",
        "        train_sizes, train_scores_mean, \"o-\", color=\"r\", label=\"Training score\"\n",
        ")\n",
        "plt.plot(\n",
        "        train_sizes, test_scores_mean, \"o-\", color=\"g\", label=\"Cross-validation score\"\n",
        ")\n",
        "plt.legend(loc=\"best\")"
      ]
    },
    {
      "cell_type": "markdown",
      "metadata": {
        "id": "0XoONP8xrZLS"
      },
      "source": [
        "И посмотрим классификейшен репорты для обучающего и тестового множества"
      ]
    },
    {
      "cell_type": "code",
      "execution_count": null,
      "metadata": {
        "colab": {
          "base_uri": "https://localhost:8080/"
        },
        "id": "QnjFAoMNoMPM",
        "outputId": "4bf6ad77-d85c-4c91-961b-7ce0492a0ffc"
      },
      "outputs": [
        {
          "output_type": "stream",
          "name": "stdout",
          "text": [
            "              precision    recall  f1-score   support\n",
            "\n",
            "           0       1.00      1.00      1.00       172\n",
            "           1       1.00      1.00      1.00       203\n",
            "\n",
            "    accuracy                           1.00       375\n",
            "   macro avg       1.00      1.00      1.00       375\n",
            "weighted avg       1.00      1.00      1.00       375\n",
            "\n"
          ]
        }
      ],
      "source": [
        "print(sklearn.metrics.classification_report(y_train, clf.predict(x_umap)))\n"
      ]
    },
    {
      "cell_type": "code",
      "execution_count": null,
      "metadata": {
        "colab": {
          "base_uri": "https://localhost:8080/"
        },
        "id": "HX2nI-ASoONP",
        "outputId": "7b3344de-e72e-47c9-c272-ecd4997122a7"
      },
      "outputs": [
        {
          "output_type": "stream",
          "name": "stdout",
          "text": [
            "              precision    recall  f1-score   support\n",
            "\n",
            "           0       0.98      1.00      0.99        51\n",
            "           1       1.00      0.98      0.99        45\n",
            "\n",
            "    accuracy                           0.99        96\n",
            "   macro avg       0.99      0.99      0.99        96\n",
            "weighted avg       0.99      0.99      0.99        96\n",
            "\n"
          ]
        }
      ],
      "source": [
        "print(sklearn.metrics.classification_report(y_test, clf.predict(reducer.transform(x_test))))\n"
      ]
    }
  ],
  "metadata": {
    "colab": {
      "provenance": []
    },
    "kernelspec": {
      "display_name": "Python 3",
      "name": "python3"
    },
    "language_info": {
      "codemirror_mode": {
        "name": "ipython",
        "version": 3
      },
      "file_extension": ".py",
      "mimetype": "text/x-python",
      "name": "python",
      "nbconvert_exporter": "python",
      "pygments_lexer": "ipython3",
      "version": "3.10.9"
    }
  },
  "nbformat": 4,
  "nbformat_minor": 0
}